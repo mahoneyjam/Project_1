{
 "cells": [
  {
   "cell_type": "code",
   "execution_count": null,
   "metadata": {},
   "outputs": [],
   "source": [
    "import pandas as pd\n",
    "\n",
    "import matplotlib.pyplot as plt\n",
    "\n",
    "import numpy as np"
   ]
  },
  {
   "cell_type": "code",
   "execution_count": null,
   "metadata": {},
   "outputs": [],
   "source": [
    "used_columns=['permit_type',\n",
    "              'review_type',\n",
    "              'application_start_date',\n",
    "              'processing_time',\n",
    "#              'building_fee_paid',\n",
    "#              'zoning_fee_paid',\n",
    "#              'other_fee_paid',\n",
    "#              'subtotal_paid',\n",
    "#              'building_fee_unpaid',\n",
    "#              'zoning_fee_unpaid',\n",
    "#              'other_fee_unpaid',\n",
    "#              'subtotal_unpaid',\n",
    "#              'building_fee_waived',\n",
    "#              'zoning_fee_waived',\n",
    "#              'other_fee_waived',\n",
    "#              'subtotal_waived',\n",
    "              'total_fee',\n",
    "              'reported_cost',\n",
    "              'community_area',\n",
    "#              'census_tract',\n",
    "#              'ward',\n",
    "              'latitude',\n",
    "              'longitude',\n",
    "              'location'\n",
    "             ]\n",
    "\n",
    "\n",
    "# Fetch small data set\n",
    "#permit_df = pd.read_json(\"https://data.cityofchicago.org/resource/building-permits.json\")\n",
    "# Store small data set in csv\n",
    "#permit_df.to_csv('building-permits-small.csv', index=False)\n",
    "# Open csv and only keep useful columns\n",
    "#permit_df= pd.read_csv('building-permits-small.csv', usecols=used_columns)\n",
    "\n",
    "# Change small letters to capitals (json had lower case column labels)\n",
    "used_columns=[string.upper() for string in used_columns]\n",
    "\n",
    "permit_df= pd.read_csv('Building_Permits.csv', usecols=used_columns)\n",
    "\n",
    "# Change upper case column labels in data frame back to lower case.\n",
    "\n",
    "permit_df.columns = map(str.lower, permit_df.columns)"
   ]
  },
  {
   "cell_type": "code",
   "execution_count": null,
   "metadata": {},
   "outputs": [],
   "source": [
    "permit_df.head()"
   ]
  },
  {
   "cell_type": "markdown",
   "metadata": {},
   "source": [
    "## Data cleaning"
   ]
  },
  {
   "cell_type": "code",
   "execution_count": null,
   "metadata": {},
   "outputs": [],
   "source": [
    "permit_df_shape=permit_df.shape\n",
    "\n",
    "print(f\"There are {permit_df_shape[0]} total permits in data set.\")\n",
    "\n",
    "# Remove any rows with empty application_start_date\n",
    "\n",
    "permit_df = permit_df[pd.notnull(permit_df['application_start_date'])]\n",
    "\n",
    "permit_df_shape=permit_df.shape\n",
    "\n",
    "print(f\"There are {permit_df_shape[0]} total permits in data with nonempty start date.\")\n",
    "\n",
    "# Remove any rows with empty community_area and convert to integers\n",
    "\n",
    "permit_df = permit_df[pd.notnull(permit_df['community_area'])]\n",
    "\n",
    "permit_df['community_area']=permit_df['community_area'].astype('int')\n",
    "\n",
    "permit_df_shape=permit_df.shape\n",
    "\n",
    "print(f\"There are {permit_df_shape[0]} total permits in data with nonempty start date and nonempty community area.\")\n",
    "\n",
    "# Remove any rows with nonexistant community_area 0\n",
    "\n",
    "permit_df = permit_df[permit_df['community_area']!=0]\n",
    "\n",
    "permit_df_shape=permit_df.shape\n",
    "\n",
    "print(f\"There are {permit_df_shape[0]} total permits in data with nonempty start date and nonzero, nonempty community area.\")\n",
    "\n",
    "# Fixing date format\n",
    "\n",
    "permit_df['application_start_date']=pd.to_datetime(permit_df['application_start_date'])\n",
    "\n",
    "# Add a start_month column\n",
    "\n",
    "permit_df['start_month'] = permit_df['application_start_date'].dt.month\n",
    "\n",
    "# Remove \"permit - \" text frome each permit type.\n",
    "\n",
    "permit_df['permit_type'] = permit_df['permit_type'].map(lambda x: x.replace('PERMIT - ', '', 1))\n",
    "\n",
    "# Dictionary for later use\n",
    "\n",
    "community_areas_dict = {}\n",
    "with open('data/community_areas_dict') as f:\n",
    "    for line in f:\n",
    "        (key, val) = line.rstrip(\"\\n\").split(\";\")\n",
    "        community_areas_dict[int(key)] = val\n",
    "        \n",
    "permit_df.head()"
   ]
  },
  {
   "cell_type": "code",
   "execution_count": null,
   "metadata": {},
   "outputs": [],
   "source": [
    "# How many sign are there?\n",
    "sign_permit_df=permit_df[permit_df['permit_type']=='SIGNS']\n",
    "print(f'There are {sign_permit_df.shape[0]} sign permits')\n",
    "# Remove sign permits\n",
    "#permit_df=permit_df[permit_df['permit_type']!='PERMIT - SIGNS']\n",
    "# How many EASY PERMIT WEB web permits are there?\n",
    "easy_permit_df=permit_df[permit_df['review_type']=='EASY PERMIT WEB']\n",
    "print(f'There are {easy_permit_df.shape[0]} easy web permits')\n",
    "# Remove easy permits\n",
    "#permit_df=permit_df[permit_df['review_type']!='EASY PERMIT WEB']"
   ]
  },
  {
   "cell_type": "markdown",
   "metadata": {},
   "source": [
    "## Initial plot data"
   ]
  },
  {
   "cell_type": "code",
   "execution_count": null,
   "metadata": {},
   "outputs": [],
   "source": [
    "# How many applications for each type?\n",
    "\n",
    "permit_proc_gb=permit_df[['permit_type','processing_time']].groupby(['permit_type'], as_index=False)\n",
    "\n",
    "perm_type_num_applications_df=pd.DataFrame(permit_proc_gb.count())\n",
    "\n",
    "perm_type_num_applications_df=perm_type_num_applications_df.rename(columns={\"processing_time\": \"num_of_applications\"})\n",
    "\n",
    "# perm_type_num_applications_df.to_csv('plot_data/num_app_to_permit_type_bar_graph.csv', index=True)\n",
    "\n",
    "perm_type_num_applications_df"
   ]
  },
  {
   "cell_type": "code",
   "execution_count": null,
   "metadata": {},
   "outputs": [],
   "source": [
    "sorted_app_to_permit_df = perm_type_num_applications_df.sort_values(by=['num_of_applications'])"
   ]
  },
  {
   "cell_type": "code",
   "execution_count": null,
   "metadata": {},
   "outputs": [],
   "source": [
    "plt.figure(figsize=(10,10))\n",
    "plt.bar(sorted_app_to_permit_df['permit_type'], sorted_app_to_permit_df['num_of_applications'], color='b', alpha=0.75, align=\"center\")\n",
    "\n",
    "plt.title(\"Number of Apps by Permit Type\")\n",
    "plt.xlabel(\"Permit Type\")\n",
    "plt.xticks(rotation=90)\n",
    "plt.ylabel(\"Number of Apps\");\n",
    "plt.savefig('figures/01_obj_0_number_of_apps_by_permit_type.png')"
   ]
  },
  {
   "cell_type": "code",
   "execution_count": null,
   "metadata": {},
   "outputs": [],
   "source": [
    "# How many applications are made each month?\n",
    "\n",
    "month_proc_time_gb=permit_df[['start_month','processing_time']].groupby(['start_month'], as_index=False)\n",
    "\n",
    "month_num_applications_df=pd.DataFrame(month_proc_time_gb.count())\n",
    "\n",
    "month_num_applications_df=month_num_applications_df.rename(columns={\"processing_time\": \"num_of_applications\"})\n",
    "\n",
    "month_num_applications_df.to_csv('plot_data/num_app_to_s_month_bar_graph.csv', index=True)\n",
    "\n",
    "month_num_applications_df"
   ]
  },
  {
   "cell_type": "code",
   "execution_count": null,
   "metadata": {},
   "outputs": [],
   "source": [
    "sorted_app_to_s_month_df = month_num_applications_df.sort_values(by=['num_of_applications'])"
   ]
  },
  {
   "cell_type": "code",
   "execution_count": null,
   "metadata": {},
   "outputs": [],
   "source": [
    "plt.figure(figsize=(10,10))\n",
    "plt.bar(sorted_app_to_s_month_df['start_month'], sorted_app_to_s_month_df['num_of_applications'], color='b', alpha=0.75, align=\"center\")\n",
    "\n",
    "plt.title(\"Number of Apps by Start Month\")\n",
    "plt.xlabel(\"Start Month\")\n",
    "plt.xticks(rotation=90)\n",
    "plt.yscale('log')\n",
    "plt.ylabel(\"Number of Apps\");\n",
    "plt.savefig('figures/02_obj_0_number_of_apps_by_start_month.png')"
   ]
  },
  {
   "cell_type": "code",
   "execution_count": null,
   "metadata": {},
   "outputs": [],
   "source": [
    "# How many applications were made in each community area?\n",
    "\n",
    "comm_area_gb=permit_df[['community_area','processing_time']].groupby(['community_area'], as_index=False)\n",
    "\n",
    "comm_area_num_applications_df=pd.DataFrame(comm_area_gb.count())\n",
    "\n",
    "comm_area_num_applications_df=comm_area_num_applications_df.rename(columns={\"processing_time\": \"num_of_applications\"})\n",
    "\n",
    "# Apply community area labels\n",
    "comm_area_num_applications_df=comm_area_num_applications_df.replace({\"community_area\": community_areas_dict})\n",
    "\n",
    "comm_area_num_applications_df.to_csv('plot_data/num_app_to_com_areas_bar_graph.csv', index=False)\n",
    "\n",
    "comm_area_num_applications_df"
   ]
  },
  {
   "cell_type": "code",
   "execution_count": null,
   "metadata": {},
   "outputs": [],
   "source": [
    "sorted_app_to_comm_df = comm_area_num_applications_df.sort_values(by=['num_of_applications'])"
   ]
  },
  {
   "cell_type": "code",
   "execution_count": null,
   "metadata": {},
   "outputs": [],
   "source": [
    "plt.figure(figsize=(10,15))\n",
    "plt.barh(sorted_app_to_comm_df['community_area'], sorted_app_to_comm_df['num_of_applications'], color='b', alpha=0.75, align=\"center\")\n",
    "\n",
    "plt.title(\"Number of Apps by Community Area\")\n",
    "plt.xlabel(\"Number of Apps\")\n",
    "plt.xticks(rotation=90)\n",
    "plt.ylabel(\"Community Area\");\n",
    "plt.savefig('figures/03_obj_0_number_of_apps_by_community_area.png')"
   ]
  },
  {
   "cell_type": "markdown",
   "metadata": {},
   "source": [
    "## Objective 1: How does start month affect processing time?"
   ]
  },
  {
   "cell_type": "code",
   "execution_count": null,
   "metadata": {},
   "outputs": [],
   "source": [
    "# How many permits are there? (Now defined in initial plots)\n",
    "# month_proc_time_gb=permit_df[['start_month','processing_time']].groupby(['start_month'], as_index=True)\n",
    "\n",
    "month_proc_time_df=pd.DataFrame(month_proc_time_gb.mean())\n",
    "\n",
    "month_proc_time_df=month_proc_time_df.rename(columns={\"processing_time\": \"ave_proc_time\"})\n",
    "\n",
    "# Make a temporary dataframe to hold data where processing time is nonzero.\n",
    "temp_df=permit_df[['start_month','processing_time']]\n",
    "\n",
    "temp_df=temp_df[temp_df['processing_time']!=0]\n",
    "\n",
    "# Create a boxplot to compare means\n",
    "temp_df.boxplot('processing_time', by='start_month', figsize=(20, 10))\n",
    "\n",
    "plt.title('Time to approval vs. Application month')\n",
    "# Remove annoying subtitle\n",
    "plt.suptitle('')\n",
    "plt.xlabel('Application month')\n",
    "plt.ylabel('Time to approval')\n",
    "plt.ylim((-100,150))\n",
    "plt.savefig('figures/04_obj_1_start_month_proc_time_box_plot.png')\n",
    "\n",
    "\n",
    "month_proc_time_df"
   ]
  },
  {
   "cell_type": "code",
   "execution_count": null,
   "metadata": {},
   "outputs": [],
   "source": [
    "# Todo ANOVA?"
   ]
  },
  {
   "cell_type": "markdown",
   "metadata": {},
   "source": [
    "## Objective 2: How does community area affect processing time?"
   ]
  },
  {
   "cell_type": "code",
   "execution_count": null,
   "metadata": {},
   "outputs": [],
   "source": [
    "# Data from https://data.cityofchicago.org/Health-Human-Services/Census-Data-Selected-socioeconomic-indicators-in-C/kn9c-c2s2/data\n",
    "\n",
    "# File to Load (Remember to Change These)\n",
    "file_to_load = \"data/Per_Capita_Income.csv\"\n",
    "\n",
    "# Read Purchasing File and store into Pandas dataframe\n",
    "income_data = pd.read_csv(file_to_load)\n",
    "# Remove empty community number (was for all Chicago)\n",
    "income_data = income_data[pd.notnull(income_data['Community Area Number'])]\n",
    "\n",
    "\n",
    "temp_df=income_data[['Community Area Number','PER CAPITA INCOME ']].sort_values(by=['PER CAPITA INCOME '])\n",
    "\n",
    "community_list_srt_by_inc_idx=temp_df['Community Area Number'].to_list()\n",
    "\n",
    "community_list_srt_by_inc_idx=[int(number) for number in community_list_srt_by_inc_idx]\n",
    "\n",
    "community_list_srt_by_inc=[community_areas_dict[number] for number in community_list_srt_by_inc_idx]\n",
    "\n",
    "temp_df.head()"
   ]
  },
  {
   "cell_type": "code",
   "execution_count": null,
   "metadata": {},
   "outputs": [],
   "source": [
    "# Make a temporary dataframe to hold data where processing time is nonzero.\n",
    "\n",
    "temp_df=permit_df[['community_area','processing_time','total_fee']]\n",
    "\n",
    "temp_df=temp_df[temp_df['processing_time']!=0]\n",
    "\n",
    "com_ar_proc_time_gb=temp_df.groupby(['community_area'], as_index=False)\n",
    "\n",
    "\n",
    "com_ar_proc_time_df=pd.DataFrame(com_ar_proc_time_gb.median())\n",
    "\n",
    "com_ar_proc_time_df=com_ar_proc_time_df.replace({\"community_area\": community_areas_dict})\n",
    "\n",
    "com_ar_proc_time_df\n",
    "\n",
    "#high_inc_df.sort_values(by=['community_area'], ascending=False)\n",
    "\n",
    "# Could do boxplots again."
   ]
  },
  {
   "cell_type": "code",
   "execution_count": null,
   "metadata": {},
   "outputs": [],
   "source": [
    "plt.figure(figsize=(20,3))\n",
    "\n",
    "# Old plot command\n",
    "#plt.scatter(rank_comm_proc_df[\"community_area\"], rank_comm_proc_df[\"processing_time\"], marker=\"o\", facecolors=\"blue\", \n",
    "#           edgecolors=\"black\", alpha=1);\n",
    "\n",
    "y_values=[com_ar_proc_time_df[\"processing_time\"][j-1] for j in community_list_srt_by_inc_idx]\n",
    "\n",
    "plt.scatter(community_list_srt_by_inc, y_values, marker=\"o\", facecolors=\"blue\", \n",
    "           edgecolors=\"black\", alpha=1);\n",
    "\n",
    "plt.title(\"Avg Processing Time by Momth\")\n",
    "plt.xlabel(\"Month\")\n",
    "plt.xticks(rotation=90)\n",
    "plt.ylabel(\"Avg Processing Time (Days)\")\n",
    "plt.ylim(0, 35);\n",
    "plt.savefig('figures/05_obj_2_avg_proc_tm_by_mnth.png')"
   ]
  },
  {
   "cell_type": "markdown",
   "metadata": {},
   "source": [
    "## Objective 3: How do permits per capita compare across all community areas?"
   ]
  },
  {
   "cell_type": "code",
   "execution_count": null,
   "metadata": {},
   "outputs": [],
   "source": [
    "# Data from https://datahub.cmap.illinois.gov/dataset/2010-census-data-summarized-to-chicago-community-areas\n",
    "\n",
    "# File to Load (Remember to Change These)\n",
    "file_to_load = \"data/CCASF12010CMAP.csv\"\n",
    "\n",
    "# Read Purchasing File and store into Pandas dataframe\n",
    "population_data = pd.read_csv(file_to_load)\n",
    "population_data.head()"
   ]
  },
  {
   "cell_type": "code",
   "execution_count": null,
   "metadata": {},
   "outputs": [],
   "source": [
    "com_ar_ct_df=pd.DataFrame(com_ar_proc_time_gb.count())\n",
    "\n",
    "com_ar_ct_df['Total Population']=''\n",
    "for j in range(0,com_ar_ct_df.shape[0]):\n",
    "    com_ar_ct_df['Total Population'].iloc[j]=population_data['P0050001'].iloc[int(com_ar_ct_df['community_area'].iloc[j])]\n",
    "com_ar_ct_df['Total Population']=pd.to_numeric(com_ar_ct_df['Total Population'])\n",
    "\n",
    "com_ar_ct_df['perm_p_person']=(com_ar_ct_df['processing_time']/com_ar_ct_df['Total Population'])\n",
    "\n",
    "# Apply community area labels\n",
    "com_ar_ct_df=com_ar_ct_df.replace({\"community_area\": community_areas_dict})\n",
    "\n",
    "com_ar_ct_df"
   ]
  },
  {
   "cell_type": "code",
   "execution_count": null,
   "metadata": {},
   "outputs": [],
   "source": [
    "plt.figure(figsize=(10,15))\n",
    "areas = com_ar_ct_df['community_area']\n",
    "permits = (com_ar_ct_df['perm_p_person']*1000)\n",
    "plt.barh(areas, permits)\n",
    "plt.xlabel('Permits', fontsize=15, color='green')\n",
    "plt.ylabel('Community Area', fontsize=15, color='green')\n",
    "plt.title('Chicago Areas Permits Per 1,000 People')\n",
    "plt.savefig('figures/06_obj_3_chi_are_perm_p_thou.png')"
   ]
  },
  {
   "cell_type": "markdown",
   "metadata": {},
   "source": [
    "## Objective 4: What is the average permit fee for all projects in a community area?"
   ]
  },
  {
   "cell_type": "code",
   "execution_count": null,
   "metadata": {},
   "outputs": [],
   "source": [
    "com_ar_fee_df=pd.DataFrame(com_ar_proc_time_gb.mean())\n",
    "\n",
    "# Apply community area labels\n",
    "com_ar_fee_df=com_ar_fee_df.replace({\"community_area\": community_areas_dict})\n",
    "\n",
    "com_ar_fee_df"
   ]
  },
  {
   "cell_type": "code",
   "execution_count": null,
   "metadata": {},
   "outputs": [],
   "source": [
    "plt.figure(figsize=(10,15))\n",
    "# areas = com_ar_ct_df['community_area']\n",
    "# fees = (com_ar_fee_df['total_fee'])\n",
    "areas=community_list_srt_by_inc\n",
    "fees=[com_ar_fee_df['total_fee'][j-1] for j in community_list_srt_by_inc_idx]\n",
    "plt.barh(areas, fees)\n",
    "plt.xlabel('Fees', fontsize=15, color='green')\n",
    "plt.ylabel('Area', fontsize=15, color='green')\n",
    "plt.title('Chicago Areas Average Permit Fees')\n",
    "# plt.grid(True)\n",
    "plt.xscale('log')\n",
    "plt.axvline(x=1000, color='red')\n",
    "plt.savefig('figures/07_obj_4_chi_are_perm_fees.png')"
   ]
  },
  {
   "cell_type": "markdown",
   "metadata": {},
   "source": [
    "## Objective 5: How do types of permits applied for differ between the community areas with the highest and lowest per capita income?\n"
   ]
  },
  {
   "cell_type": "code",
   "execution_count": null,
   "metadata": {},
   "outputs": [],
   "source": [
    "# Change Community Area Numbers to integers.\n",
    "income_data['Community Area Number']=income_data['Community Area Number'].astype('int')\n",
    "\n",
    "income_data.head()"
   ]
  },
  {
   "cell_type": "code",
   "execution_count": null,
   "metadata": {},
   "outputs": [],
   "source": [
    "for col in income_data.columns: \n",
    "    print(col) "
   ]
  },
  {
   "cell_type": "code",
   "execution_count": null,
   "metadata": {},
   "outputs": [],
   "source": [
    "max_index=income_data['PER CAPITA INCOME '].idxmax()\n",
    "min_index=(-income_data['PER CAPITA INCOME ']).idxmax()\n",
    "print(f'Highest per capita income in {community_areas_dict[max_index]}, community number {max_index}.')\n",
    "print(f'Lowest per capita income in {community_areas_dict[min_index]}, community number {min_index}.')"
   ]
  },
  {
   "cell_type": "code",
   "execution_count": null,
   "metadata": {},
   "outputs": [],
   "source": [
    "# Find proportions of permit types in high income community area\n",
    "\n",
    "high_inc_gb=permit_df[permit_df['community_area']==max_index][['permit_type','community_area']].groupby(['permit_type'], as_index=False)\n",
    "\n",
    "high_inc_df=pd.DataFrame(high_inc_gb.count())\n",
    "\n",
    "high_inc_df=high_inc_df.sort_values(by=['community_area'], ascending=False)\n",
    "\n",
    "high_inc_df=high_inc_df.rename(columns={'community_area': 'high_proportion'})\n",
    "\n",
    "high_inc_total=high_inc_df['high_proportion'].sum()\n",
    "\n",
    "high_inc_df['high_proportion']=high_inc_df['high_proportion']/high_inc_total\n",
    "\n",
    "high_inc_df"
   ]
  },
  {
   "cell_type": "code",
   "execution_count": null,
   "metadata": {},
   "outputs": [],
   "source": [
    "# Find proportions of permit types in low income community area\n",
    "\n",
    "low_inc_gb=permit_df[permit_df['community_area']==min_index][['permit_type','community_area']].groupby(['permit_type'], as_index=False)\n",
    "\n",
    "low_inc_df=pd.DataFrame(low_inc_gb.count())\n",
    "\n",
    "low_inc_df=low_inc_df.sort_values(by=['community_area'], ascending=False)\n",
    "\n",
    "low_inc_df=low_inc_df.rename(columns={'community_area': 'low_proportion'})\n",
    "\n",
    "low_inc_total=low_inc_df['low_proportion'].sum()\n",
    "\n",
    "low_inc_df['low_proportion']=low_inc_df['low_proportion']/low_inc_total\n",
    "\n",
    "low_inc_df"
   ]
  },
  {
   "cell_type": "code",
   "execution_count": null,
   "metadata": {},
   "outputs": [],
   "source": [
    "# Merge data for low and high income\n",
    "\n",
    "\n",
    "high_low_df=pd.merge(high_inc_df, low_inc_df, on='permit_type')\n",
    "\n",
    "high_low_df.to_csv('plot_data/high_low_income_permit_type_proportions.csv', index=False)\n",
    "\n",
    "high_low_df"
   ]
  },
  {
   "cell_type": "code",
   "execution_count": null,
   "metadata": {},
   "outputs": [],
   "source": [
    "high_prop_list=high_low_df['high_proportion'].to_list()\n",
    "low_prop_list=high_low_df['low_proportion'].to_list()\n",
    "permit_list=high_low_df['permit_type'].to_list()\n",
    "y_data=[y for y in range(0,len(high_prop_list))]\n",
    "fig = plt.figure(figsize=(15,10))\n",
    "ax = fig.add_subplot(111)\n",
    "width = 0.35\n",
    "ax.barh(y_data, low_prop_list, width, color='royalblue', label='low income')\n",
    "ax.barh(y_data+np.array(width), high_prop_list, width, color='seagreen', label='high income')\n",
    "ax.set_yticklabels(permit_list)\n",
    "ax.set_yticks(np.arange(len(y_data)))\n",
    "#plt.xscale('log')\n",
    "plt.xlabel('Proportion of permits')\n",
    "plt.ylabel('Permit type')\n",
    "plt.legend()\n",
    "plt.title('Permit type proportions in highest and lowest income community area')\n",
    "plt.savefig('figures/08_obj_5_chi_are_perm_fees.png')"
   ]
  },
  {
   "cell_type": "markdown",
   "metadata": {},
   "source": [
    "## What location paid the most permit fees?  (in each community area)"
   ]
  },
  {
   "cell_type": "code",
   "execution_count": null,
   "metadata": {},
   "outputs": [],
   "source": [
    "# Get list of all area indexes\n",
    "com_area_indexes=range(1,78)\n",
    "\n",
    "# Find indexes for rows with the largest fees for each community area\n",
    "max_indices=[permit_df[(permit_df['community_area']==index)]['total_fee'].idxmax() for index in com_area_indexes]"
   ]
  },
  {
   "cell_type": "code",
   "execution_count": null,
   "metadata": {},
   "outputs": [],
   "source": [
    "# Create data frame to store information on highest permit fee locations and populate it.\n",
    "max_fee_loc_df = pd.DataFrame(columns=['community_area','permit_type','total_fee','latitude','longitude'])                      \n",
    "\n",
    "i=0\n",
    "for j in max_indices:\n",
    "    max_fee_loc_df.loc[i]=[permit_df['community_area'][j],\n",
    "                           permit_df['permit_type'][j],\n",
    "                           permit_df['total_fee'][j],                          \n",
    "                           permit_df['latitude'][j],\n",
    "                           permit_df['longitude'][j]]\n",
    "    i+=1\n",
    "    \n",
    "# Apply community area labels\n",
    "max_fee_loc_df['community_area_name']=''\n",
    "max_fee_loc_df['community_area_name']=max_fee_loc_df.replace({\"community_area\": community_areas_dict})\n",
    "\n",
    "max_fee_loc_df=max_fee_loc_df.sort_values(by=['community_area'])\n",
    "#max_fee_loc_df=max_fee_loc_df.reindex(index=range(0,77))\n",
    "\n",
    "max_fee_loc_df.sort_values(by=['total_fee'])"
   ]
  },
  {
   "cell_type": "code",
   "execution_count": null,
   "metadata": {},
   "outputs": [],
   "source": [
    "#com_ar_proc_time_gb=temp_df.groupby(['community_area'], as_index=False)\n",
    "\n",
    "\n",
    "#com_ar_proc_time_df=pd.DataFrame(com_ar_proc_time_gb.median())\n",
    "\n",
    "max_fee_per_type_gb=max_fee_loc_df[['permit_type','latitude']].groupby(['permit_type'])\n",
    "\n",
    "pd.DataFrame(max_fee_per_type_gb.count()).rename(columns={'latitude':'count'})"
   ]
  },
  {
   "cell_type": "code",
   "execution_count": null,
   "metadata": {},
   "outputs": [],
   "source": [
    "import gmaps\n",
    "\n",
    "import json\n",
    "import requests\n",
    "\n",
    "# Google developer API key\n",
    "from api_keys import g_key\n",
    "\n",
    "with open('Comm_Areas.geojson') as json_file:\n",
    "    boundaries = json.load(json_file)\n",
    "\n",
    "#boundaries = json.loads('Comm_Areas.geojson')"
   ]
  },
  {
   "cell_type": "code",
   "execution_count": null,
   "metadata": {},
   "outputs": [],
   "source": [
    "import pprint\n",
    "import matplotlib.colors as mcol\n",
    "import matplotlib.cm as cm\n",
    "\n",
    "# Store community area numbers in order that they appear in geojson.\n",
    "boundaries_com_idx_list=[int(boundaries['features'][j]['properties']['area_num_1']) for j in range(0,77)]\n",
    "\n",
    "## Old Method (Not used due to very large maximum compared to rest of data)\n",
    "#cmap = cm.get_cmap('rainbow')\n",
    "# norm_max_fee_list=max_fee_loc_df['total_fee'].to_list()\n",
    "# min_max_com_fee=min(norm_max_fee_list)\n",
    "# max_minus_min_com_fee=max(norm_max_fee_list)-min_max_com_fee\n",
    "# norm_max_fee_list=[(fee-min_max_com_fee)/max_minus_min_com_fee for fee in norm_max_fee_list]\n",
    "# boundaries_com_idx_list=[int(boundaries['features'][j]['properties']['area_num_1']) for j in range(0,77)]\n",
    "## Convert normalized fees to html colors\n",
    "#com_area_colors=[matplotlib.colors.rgb2hex(cmap(norm_max_fee_list[j-1])[:3]) for j in boundaries_com_idx_list]\n",
    "\n",
    "# New Method\n",
    "# Make a user-defined colormap.\n",
    "cmap = mcol.LinearSegmentedColormap.from_list(\"MyCmapName\",[\"b\",\"r\"])\n",
    "max_fee_list=max_fee_loc_df['total_fee'].to_list()\n",
    "# Get indices of community areas after they have been sorted by max permit fee (ascending)\n",
    "color_numbers=sorted(range(len(max_fee_list)), key=lambda k: max_fee_list[k])\n",
    "# Initialize array to store colors\n",
    "com_area_colors = [''] * 77\n",
    "# Make vector with colors assigned to community area in order of the permit_fee\n",
    "for j in range(0,77):\n",
    "    com_area_colors[color_numbers[j]]=mcol.rgb2hex(cmap((j)/76)[:3])\n",
    "# Copy colors\n",
    "com_area_colors2=com_area_colors\n",
    "# Reindex list of colors according to order in geojson\n",
    "com_area_colors=[com_area_colors2[boundaries_com_idx_list[j]-1] for j in range(0,77)]"
   ]
  },
  {
   "cell_type": "code",
   "execution_count": null,
   "metadata": {},
   "outputs": [],
   "source": [
    "# Configure gmaps\n",
    "gmaps.configure(api_key=g_key)\n",
    "\n",
    "# Customize the size of the figure\n",
    "figure_layout = {\n",
    "    'width': '800px',\n",
    "    'height': '1000px',\n",
    "    'border': '1px solid black',\n",
    "    'padding': '1px',\n",
    "    'margin': '0 auto 0 auto'\n",
    "}\n",
    "\n",
    "# Create a map\n",
    "marker_locations = max_fee_loc_df[['latitude','longitude']]\n",
    "\n",
    "fig2 = gmaps.figure(layout=figure_layout)\n",
    "\n",
    "import random\n",
    "\n",
    "#geojson = gmaps.geojson_layer(boundaries, fill_color=colors, fill_opacity=0.2, stroke_weight=1)\n",
    "geojson = gmaps.geojson_layer(boundaries, fill_color=com_area_colors, fill_opacity=0.7, stroke_weight=0.5)\n",
    "\n",
    "# Assign the marker layer to a variable\n",
    "markers = gmaps.marker_layer(marker_locations)\n",
    "\n",
    "fig2.add_layer(markers)\n",
    "fig2.add_layer(geojson)\n",
    "\n",
    "fig2"
   ]
  },
  {
   "cell_type": "code",
   "execution_count": null,
   "metadata": {},
   "outputs": [],
   "source": [
    "per_type_gb=permit_df[['permit_type','processing_time','total_fee']].groupby(['permit_type'], as_index=False)\n",
    "\n",
    "per_type_sum_df=pd.DataFrame(per_type_gb.sum())\n",
    "\n",
    "per_type_sum_df"
   ]
  },
  {
   "cell_type": "code",
   "execution_count": null,
   "metadata": {},
   "outputs": [],
   "source": [
    "per_type_ct_df=pd.DataFrame(per_type_gb.count())\n",
    "\n",
    "per_type_ct_df"
   ]
  },
  {
   "cell_type": "code",
   "execution_count": null,
   "metadata": {},
   "outputs": [],
   "source": [
    "per_type_mth_gb=permit_df[['permit_type','start_month','processing_time','total_fee']].groupby([\n",
    "    'permit_type','start_month'], as_index=False)\n",
    "\n",
    "per_type_mth_ct_df=pd.DataFrame(per_type_mth_gb.count())\n",
    "\n",
    "per_type_mth_ct_df[per_type_mth_ct_df['permit_type']=='PERMIT - EASY PERMIT PROCESS']"
   ]
  },
  {
   "cell_type": "code",
   "execution_count": null,
   "metadata": {},
   "outputs": [],
   "source": [
    "\n",
    "per_type_mth_ct_df[per_type_mth_ct_df['permit_type']=='PERMIT - RENOVATION/ALTERATION']"
   ]
  },
  {
   "cell_type": "code",
   "execution_count": null,
   "metadata": {},
   "outputs": [],
   "source": [
    "per_type_mth_ct_df=pd.DataFrame(per_type_mth_gb.count())\n",
    "per_type_mth_ct_df"
   ]
  },
  {
   "cell_type": "code",
   "execution_count": null,
   "metadata": {},
   "outputs": [],
   "source": []
  },
  {
   "cell_type": "code",
   "execution_count": null,
   "metadata": {},
   "outputs": [],
   "source": []
  },
  {
   "cell_type": "code",
   "execution_count": null,
   "metadata": {},
   "outputs": [],
   "source": []
  },
  {
   "cell_type": "code",
   "execution_count": null,
   "metadata": {},
   "outputs": [],
   "source": []
  },
  {
   "cell_type": "code",
   "execution_count": null,
   "metadata": {},
   "outputs": [],
   "source": []
  },
  {
   "cell_type": "code",
   "execution_count": null,
   "metadata": {},
   "outputs": [],
   "source": []
  },
  {
   "cell_type": "code",
   "execution_count": null,
   "metadata": {},
   "outputs": [],
   "source": []
  }
 ],
 "metadata": {
  "kernelspec": {
   "display_name": "Python 3",
   "language": "python",
   "name": "python3"
  },
  "language_info": {
   "codemirror_mode": {
    "name": "ipython",
    "version": 3
   },
   "file_extension": ".py",
   "mimetype": "text/x-python",
   "name": "python",
   "nbconvert_exporter": "python",
   "pygments_lexer": "ipython3",
   "version": "3.7.4"
  }
 },
 "nbformat": 4,
 "nbformat_minor": 4
}
